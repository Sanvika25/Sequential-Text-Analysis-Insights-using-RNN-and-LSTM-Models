{
  "nbformat": 4,
  "nbformat_minor": 0,
  "metadata": {
    "colab": {
      "provenance": [],
      "authorship_tag": "ABX9TyOQ357Cf/FyPG94PqtmoXrN",
      "include_colab_link": true
    },
    "kernelspec": {
      "name": "python3",
      "display_name": "Python 3"
    },
    "language_info": {
      "name": "python"
    }
  },
  "cells": [
    {
      "cell_type": "markdown",
      "metadata": {
        "id": "view-in-github",
        "colab_type": "text"
      },
      "source": [
        "<a href=\"https://colab.research.google.com/github/Sanvika25/Sequential-Text-Analysis-Insights-using-RNN-and-LSTM-Models/blob/main/dl_casestudy2.ipynb\" target=\"_parent\"><img src=\"https://colab.research.google.com/assets/colab-badge.svg\" alt=\"Open In Colab\"/></a>"
      ]
    },
    {
      "cell_type": "markdown",
      "source": [
        "**Details:**\n",
        "\n",
        "**Author: SAI SANVIKA**\n",
        "\n",
        "**Roll No**.: **HU21CSEN0300415**"
      ],
      "metadata": {
        "id": "ITtI93ouIzxr"
      }
    },
    {
      "cell_type": "markdown",
      "source": [
        "**Imported Libraries**"
      ],
      "metadata": {
        "id": "HyMrTtlHGRH0"
      }
    },
    {
      "cell_type": "code",
      "source": [
        "import pandas as pd\n",
        "import numpy as np\n",
        "import tensorflow as tf\n",
        "from sklearn.model_selection import train_test_split\n",
        "from sklearn.preprocessing import LabelEncoder\n",
        "from tensorflow.keras.models import Sequential\n",
        "from tensorflow.keras.layers import Embedding, SimpleRNN, LSTM, Dense, Bidirectional, SpatialDropout1D"
      ],
      "metadata": {
        "id": "E2zcWpAS-GWW"
      },
      "execution_count": 53,
      "outputs": []
    },
    {
      "cell_type": "markdown",
      "source": [
        "**Loading Dataset**"
      ],
      "metadata": {
        "id": "5UU01G0mGbkT"
      }
    },
    {
      "cell_type": "code",
      "source": [
        "# Step 1: Load your CSV file\n",
        "df = pd.read_csv('dl usecase data.csv')"
      ],
      "metadata": {
        "id": "F22-QkGV-IUS"
      },
      "execution_count": 54,
      "outputs": []
    },
    {
      "cell_type": "markdown",
      "source": [
        "**Displaying Dataset Head**"
      ],
      "metadata": {
        "id": "DXHkWi5DGinu"
      }
    },
    {
      "cell_type": "code",
      "source": [
        "# Step 2: Display the head (first 20 rows) of the dataset\n",
        "print(\"Displaying the head (first 20 rows) of the dataset:\")\n",
        "df.head(20)"
      ],
      "metadata": {
        "colab": {
          "base_uri": "https://localhost:8080/",
          "height": 583
        },
        "id": "XmtuSosk-R-Q",
        "outputId": "eb139305-4059-4c86-b55a-714e92e7c7bd"
      },
      "execution_count": 55,
      "outputs": [
        {
          "output_type": "stream",
          "name": "stdout",
          "text": [
            "Displaying the head (first 20 rows) of the dataset:\n"
          ]
        },
        {
          "output_type": "execute_result",
          "data": {
            "text/plain": [
              "        name                                        description\n",
              "0    Sanvika  Sanvika is a software developer creating langu...\n",
              "1      Priya  Priya is a calligrapher merging traditional ch...\n",
              "2        Raj          Raj is a street chef with a secret recipe\n",
              "3      Naina  Naina is a environmentalist championing sustai...\n",
              "4     Vikram  Vikram is a Yoga instructor promoting holistic...\n",
              "5      Pooja  Pooja is a Wildlife photographer capturing end...\n",
              "6      Arjun  Arjun is a Social worker empowering children t...\n",
              "7     Ananya  Ananya is a Stand-up comedian delivering uniqu...\n",
              "8      Rohit  Rohit is a published author exploring cultural...\n",
              "9   Akshitha  Akshitha is a AI engineer working on cutting-e...\n",
              "10     Rahul  Rahul is a Fashion designer merging tradition ...\n",
              "11    Shreya  Shreya is a Surfer organizing beach cleanup ev...\n",
              "12    Aakash  Aakash is a Robotics enthusiast excelling in c...\n",
              "13  Abhijeet  Abhijeet is a Historian preserving Taiwan's cu...\n",
              "14     Meera  Meera is a Mountain climber conquering Taiwan'...\n",
              "15    Aditya  Aditya is a Marine biologist researching uniqu...\n",
              "16     Kavya  Kavya is a Businesswoman managing boutique Tai...\n",
              "17     Karan  Karan is a Chef reviving traditional Taiwanese...\n",
              "18     Sneha  Sneha is a Robotics engineer aiding disaster r...\n",
              "19     Sirin  Sirin is a Tea ceremony master promoting mindf..."
            ],
            "text/html": [
              "\n",
              "  <div id=\"df-6c8ab6c1-ffda-457f-8fc0-749ee7963f9c\" class=\"colab-df-container\">\n",
              "    <div>\n",
              "<style scoped>\n",
              "    .dataframe tbody tr th:only-of-type {\n",
              "        vertical-align: middle;\n",
              "    }\n",
              "\n",
              "    .dataframe tbody tr th {\n",
              "        vertical-align: top;\n",
              "    }\n",
              "\n",
              "    .dataframe thead th {\n",
              "        text-align: right;\n",
              "    }\n",
              "</style>\n",
              "<table border=\"1\" class=\"dataframe\">\n",
              "  <thead>\n",
              "    <tr style=\"text-align: right;\">\n",
              "      <th></th>\n",
              "      <th>name</th>\n",
              "      <th>description</th>\n",
              "    </tr>\n",
              "  </thead>\n",
              "  <tbody>\n",
              "    <tr>\n",
              "      <th>0</th>\n",
              "      <td>Sanvika</td>\n",
              "      <td>Sanvika is a software developer creating langu...</td>\n",
              "    </tr>\n",
              "    <tr>\n",
              "      <th>1</th>\n",
              "      <td>Priya</td>\n",
              "      <td>Priya is a calligrapher merging traditional ch...</td>\n",
              "    </tr>\n",
              "    <tr>\n",
              "      <th>2</th>\n",
              "      <td>Raj</td>\n",
              "      <td>Raj is a street chef with a secret recipe</td>\n",
              "    </tr>\n",
              "    <tr>\n",
              "      <th>3</th>\n",
              "      <td>Naina</td>\n",
              "      <td>Naina is a environmentalist championing sustai...</td>\n",
              "    </tr>\n",
              "    <tr>\n",
              "      <th>4</th>\n",
              "      <td>Vikram</td>\n",
              "      <td>Vikram is a Yoga instructor promoting holistic...</td>\n",
              "    </tr>\n",
              "    <tr>\n",
              "      <th>5</th>\n",
              "      <td>Pooja</td>\n",
              "      <td>Pooja is a Wildlife photographer capturing end...</td>\n",
              "    </tr>\n",
              "    <tr>\n",
              "      <th>6</th>\n",
              "      <td>Arjun</td>\n",
              "      <td>Arjun is a Social worker empowering children t...</td>\n",
              "    </tr>\n",
              "    <tr>\n",
              "      <th>7</th>\n",
              "      <td>Ananya</td>\n",
              "      <td>Ananya is a Stand-up comedian delivering uniqu...</td>\n",
              "    </tr>\n",
              "    <tr>\n",
              "      <th>8</th>\n",
              "      <td>Rohit</td>\n",
              "      <td>Rohit is a published author exploring cultural...</td>\n",
              "    </tr>\n",
              "    <tr>\n",
              "      <th>9</th>\n",
              "      <td>Akshitha</td>\n",
              "      <td>Akshitha is a AI engineer working on cutting-e...</td>\n",
              "    </tr>\n",
              "    <tr>\n",
              "      <th>10</th>\n",
              "      <td>Rahul</td>\n",
              "      <td>Rahul is a Fashion designer merging tradition ...</td>\n",
              "    </tr>\n",
              "    <tr>\n",
              "      <th>11</th>\n",
              "      <td>Shreya</td>\n",
              "      <td>Shreya is a Surfer organizing beach cleanup ev...</td>\n",
              "    </tr>\n",
              "    <tr>\n",
              "      <th>12</th>\n",
              "      <td>Aakash</td>\n",
              "      <td>Aakash is a Robotics enthusiast excelling in c...</td>\n",
              "    </tr>\n",
              "    <tr>\n",
              "      <th>13</th>\n",
              "      <td>Abhijeet</td>\n",
              "      <td>Abhijeet is a Historian preserving Taiwan's cu...</td>\n",
              "    </tr>\n",
              "    <tr>\n",
              "      <th>14</th>\n",
              "      <td>Meera</td>\n",
              "      <td>Meera is a Mountain climber conquering Taiwan'...</td>\n",
              "    </tr>\n",
              "    <tr>\n",
              "      <th>15</th>\n",
              "      <td>Aditya</td>\n",
              "      <td>Aditya is a Marine biologist researching uniqu...</td>\n",
              "    </tr>\n",
              "    <tr>\n",
              "      <th>16</th>\n",
              "      <td>Kavya</td>\n",
              "      <td>Kavya is a Businesswoman managing boutique Tai...</td>\n",
              "    </tr>\n",
              "    <tr>\n",
              "      <th>17</th>\n",
              "      <td>Karan</td>\n",
              "      <td>Karan is a Chef reviving traditional Taiwanese...</td>\n",
              "    </tr>\n",
              "    <tr>\n",
              "      <th>18</th>\n",
              "      <td>Sneha</td>\n",
              "      <td>Sneha is a Robotics engineer aiding disaster r...</td>\n",
              "    </tr>\n",
              "    <tr>\n",
              "      <th>19</th>\n",
              "      <td>Sirin</td>\n",
              "      <td>Sirin is a Tea ceremony master promoting mindf...</td>\n",
              "    </tr>\n",
              "  </tbody>\n",
              "</table>\n",
              "</div>\n",
              "    <div class=\"colab-df-buttons\">\n",
              "\n",
              "  <div class=\"colab-df-container\">\n",
              "    <button class=\"colab-df-convert\" onclick=\"convertToInteractive('df-6c8ab6c1-ffda-457f-8fc0-749ee7963f9c')\"\n",
              "            title=\"Convert this dataframe to an interactive table.\"\n",
              "            style=\"display:none;\">\n",
              "\n",
              "  <svg xmlns=\"http://www.w3.org/2000/svg\" height=\"24px\" viewBox=\"0 -960 960 960\">\n",
              "    <path d=\"M120-120v-720h720v720H120Zm60-500h600v-160H180v160Zm220 220h160v-160H400v160Zm0 220h160v-160H400v160ZM180-400h160v-160H180v160Zm440 0h160v-160H620v160ZM180-180h160v-160H180v160Zm440 0h160v-160H620v160Z\"/>\n",
              "  </svg>\n",
              "    </button>\n",
              "\n",
              "  <style>\n",
              "    .colab-df-container {\n",
              "      display:flex;\n",
              "      gap: 12px;\n",
              "    }\n",
              "\n",
              "    .colab-df-convert {\n",
              "      background-color: #E8F0FE;\n",
              "      border: none;\n",
              "      border-radius: 50%;\n",
              "      cursor: pointer;\n",
              "      display: none;\n",
              "      fill: #1967D2;\n",
              "      height: 32px;\n",
              "      padding: 0 0 0 0;\n",
              "      width: 32px;\n",
              "    }\n",
              "\n",
              "    .colab-df-convert:hover {\n",
              "      background-color: #E2EBFA;\n",
              "      box-shadow: 0px 1px 2px rgba(60, 64, 67, 0.3), 0px 1px 3px 1px rgba(60, 64, 67, 0.15);\n",
              "      fill: #174EA6;\n",
              "    }\n",
              "\n",
              "    .colab-df-buttons div {\n",
              "      margin-bottom: 4px;\n",
              "    }\n",
              "\n",
              "    [theme=dark] .colab-df-convert {\n",
              "      background-color: #3B4455;\n",
              "      fill: #D2E3FC;\n",
              "    }\n",
              "\n",
              "    [theme=dark] .colab-df-convert:hover {\n",
              "      background-color: #434B5C;\n",
              "      box-shadow: 0px 1px 3px 1px rgba(0, 0, 0, 0.15);\n",
              "      filter: drop-shadow(0px 1px 2px rgba(0, 0, 0, 0.3));\n",
              "      fill: #FFFFFF;\n",
              "    }\n",
              "  </style>\n",
              "\n",
              "    <script>\n",
              "      const buttonEl =\n",
              "        document.querySelector('#df-6c8ab6c1-ffda-457f-8fc0-749ee7963f9c button.colab-df-convert');\n",
              "      buttonEl.style.display =\n",
              "        google.colab.kernel.accessAllowed ? 'block' : 'none';\n",
              "\n",
              "      async function convertToInteractive(key) {\n",
              "        const element = document.querySelector('#df-6c8ab6c1-ffda-457f-8fc0-749ee7963f9c');\n",
              "        const dataTable =\n",
              "          await google.colab.kernel.invokeFunction('convertToInteractive',\n",
              "                                                    [key], {});\n",
              "        if (!dataTable) return;\n",
              "\n",
              "        const docLinkHtml = 'Like what you see? Visit the ' +\n",
              "          '<a target=\"_blank\" href=https://colab.research.google.com/notebooks/data_table.ipynb>data table notebook</a>'\n",
              "          + ' to learn more about interactive tables.';\n",
              "        element.innerHTML = '';\n",
              "        dataTable['output_type'] = 'display_data';\n",
              "        await google.colab.output.renderOutput(dataTable, element);\n",
              "        const docLink = document.createElement('div');\n",
              "        docLink.innerHTML = docLinkHtml;\n",
              "        element.appendChild(docLink);\n",
              "      }\n",
              "    </script>\n",
              "  </div>\n",
              "\n",
              "\n",
              "<div id=\"df-41c9792b-e48f-43ac-aa07-a7d0eae1b713\">\n",
              "  <button class=\"colab-df-quickchart\" onclick=\"quickchart('df-41c9792b-e48f-43ac-aa07-a7d0eae1b713')\"\n",
              "            title=\"Suggest charts\"\n",
              "            style=\"display:none;\">\n",
              "\n",
              "<svg xmlns=\"http://www.w3.org/2000/svg\" height=\"24px\"viewBox=\"0 0 24 24\"\n",
              "     width=\"24px\">\n",
              "    <g>\n",
              "        <path d=\"M19 3H5c-1.1 0-2 .9-2 2v14c0 1.1.9 2 2 2h14c1.1 0 2-.9 2-2V5c0-1.1-.9-2-2-2zM9 17H7v-7h2v7zm4 0h-2V7h2v10zm4 0h-2v-4h2v4z\"/>\n",
              "    </g>\n",
              "</svg>\n",
              "  </button>\n",
              "\n",
              "<style>\n",
              "  .colab-df-quickchart {\n",
              "      --bg-color: #E8F0FE;\n",
              "      --fill-color: #1967D2;\n",
              "      --hover-bg-color: #E2EBFA;\n",
              "      --hover-fill-color: #174EA6;\n",
              "      --disabled-fill-color: #AAA;\n",
              "      --disabled-bg-color: #DDD;\n",
              "  }\n",
              "\n",
              "  [theme=dark] .colab-df-quickchart {\n",
              "      --bg-color: #3B4455;\n",
              "      --fill-color: #D2E3FC;\n",
              "      --hover-bg-color: #434B5C;\n",
              "      --hover-fill-color: #FFFFFF;\n",
              "      --disabled-bg-color: #3B4455;\n",
              "      --disabled-fill-color: #666;\n",
              "  }\n",
              "\n",
              "  .colab-df-quickchart {\n",
              "    background-color: var(--bg-color);\n",
              "    border: none;\n",
              "    border-radius: 50%;\n",
              "    cursor: pointer;\n",
              "    display: none;\n",
              "    fill: var(--fill-color);\n",
              "    height: 32px;\n",
              "    padding: 0;\n",
              "    width: 32px;\n",
              "  }\n",
              "\n",
              "  .colab-df-quickchart:hover {\n",
              "    background-color: var(--hover-bg-color);\n",
              "    box-shadow: 0 1px 2px rgba(60, 64, 67, 0.3), 0 1px 3px 1px rgba(60, 64, 67, 0.15);\n",
              "    fill: var(--button-hover-fill-color);\n",
              "  }\n",
              "\n",
              "  .colab-df-quickchart-complete:disabled,\n",
              "  .colab-df-quickchart-complete:disabled:hover {\n",
              "    background-color: var(--disabled-bg-color);\n",
              "    fill: var(--disabled-fill-color);\n",
              "    box-shadow: none;\n",
              "  }\n",
              "\n",
              "  .colab-df-spinner {\n",
              "    border: 2px solid var(--fill-color);\n",
              "    border-color: transparent;\n",
              "    border-bottom-color: var(--fill-color);\n",
              "    animation:\n",
              "      spin 1s steps(1) infinite;\n",
              "  }\n",
              "\n",
              "  @keyframes spin {\n",
              "    0% {\n",
              "      border-color: transparent;\n",
              "      border-bottom-color: var(--fill-color);\n",
              "      border-left-color: var(--fill-color);\n",
              "    }\n",
              "    20% {\n",
              "      border-color: transparent;\n",
              "      border-left-color: var(--fill-color);\n",
              "      border-top-color: var(--fill-color);\n",
              "    }\n",
              "    30% {\n",
              "      border-color: transparent;\n",
              "      border-left-color: var(--fill-color);\n",
              "      border-top-color: var(--fill-color);\n",
              "      border-right-color: var(--fill-color);\n",
              "    }\n",
              "    40% {\n",
              "      border-color: transparent;\n",
              "      border-right-color: var(--fill-color);\n",
              "      border-top-color: var(--fill-color);\n",
              "    }\n",
              "    60% {\n",
              "      border-color: transparent;\n",
              "      border-right-color: var(--fill-color);\n",
              "    }\n",
              "    80% {\n",
              "      border-color: transparent;\n",
              "      border-right-color: var(--fill-color);\n",
              "      border-bottom-color: var(--fill-color);\n",
              "    }\n",
              "    90% {\n",
              "      border-color: transparent;\n",
              "      border-bottom-color: var(--fill-color);\n",
              "    }\n",
              "  }\n",
              "</style>\n",
              "\n",
              "  <script>\n",
              "    async function quickchart(key) {\n",
              "      const quickchartButtonEl =\n",
              "        document.querySelector('#' + key + ' button');\n",
              "      quickchartButtonEl.disabled = true;  // To prevent multiple clicks.\n",
              "      quickchartButtonEl.classList.add('colab-df-spinner');\n",
              "      try {\n",
              "        const charts = await google.colab.kernel.invokeFunction(\n",
              "            'suggestCharts', [key], {});\n",
              "      } catch (error) {\n",
              "        console.error('Error during call to suggestCharts:', error);\n",
              "      }\n",
              "      quickchartButtonEl.classList.remove('colab-df-spinner');\n",
              "      quickchartButtonEl.classList.add('colab-df-quickchart-complete');\n",
              "    }\n",
              "    (() => {\n",
              "      let quickchartButtonEl =\n",
              "        document.querySelector('#df-41c9792b-e48f-43ac-aa07-a7d0eae1b713 button');\n",
              "      quickchartButtonEl.style.display =\n",
              "        google.colab.kernel.accessAllowed ? 'block' : 'none';\n",
              "    })();\n",
              "  </script>\n",
              "</div>\n",
              "    </div>\n",
              "  </div>\n"
            ],
            "application/vnd.google.colaboratory.intrinsic+json": {
              "type": "dataframe",
              "variable_name": "df",
              "summary": "{\n  \"name\": \"df\",\n  \"rows\": 50,\n  \"fields\": [\n    {\n      \"column\": \"name\",\n      \"properties\": {\n        \"dtype\": \"string\",\n        \"num_unique_values\": 49,\n        \"samples\": [\n          \"Abhijeet\",\n          \"Suzaizai\",\n          \"Jeremy\"\n        ],\n        \"semantic_type\": \"\",\n        \"description\": \"\"\n      }\n    },\n    {\n      \"column\": \"description\",\n      \"properties\": {\n        \"dtype\": \"string\",\n        \"num_unique_values\": 50,\n        \"samples\": [\n          \"Abhijeet is a Historian preserving Taiwan's cultural heritage\",\n          \"Sang zhi is a Fashion designer with a focus on sustainability\",\n          \"Kitty is a Environmental activist reducing plastic waste\"\n        ],\n        \"semantic_type\": \"\",\n        \"description\": \"\"\n      }\n    }\n  ]\n}"
            }
          },
          "metadata": {},
          "execution_count": 55
        }
      ]
    },
    {
      "cell_type": "markdown",
      "source": [
        "**Data Preparation**"
      ],
      "metadata": {
        "id": "6b_pFAKXGruR"
      }
    },
    {
      "cell_type": "code",
      "source": [
        "# Step 3: Prepare data for training\n",
        "X = df['description']\n",
        "y = df['name']"
      ],
      "metadata": {
        "id": "Nv2S3RRK-UEU"
      },
      "execution_count": 56,
      "outputs": []
    },
    {
      "cell_type": "code",
      "source": [
        "# Use LabelEncoder to convert text labels into numerical format\n",
        "label_encoder = LabelEncoder()\n",
        "y_encoded = label_encoder.fit_transform(y)"
      ],
      "metadata": {
        "id": "EzhsPoYSBkXl"
      },
      "execution_count": 57,
      "outputs": []
    },
    {
      "cell_type": "markdown",
      "source": [
        "**Tokenization and Padding:**Tokenization is the process of breaking down a text into individual units, such as words or subwords, called tokens. It's a fundamental step in natural language processing, enabling the analysis of textual data. Padding involves adding zeros to sequences to ensure they have consistent length, necessary for input to neural networks that require fixed-size inputs."
      ],
      "metadata": {
        "id": "BHDM3vD9Ha9O"
      }
    },
    {
      "cell_type": "code",
      "source": [
        "# Tokenize and pad sequences\n",
        "max_words = 1000\n",
        "maxlen = 100  # Choose an appropriate sequence length\n",
        "tokenizer = tf.keras.preprocessing.text.Tokenizer(num_words=max_words, oov_token=\"<OOV>\")"
      ],
      "metadata": {
        "id": "nKIUgNgWBmYa"
      },
      "execution_count": 58,
      "outputs": []
    },
    {
      "cell_type": "code",
      "source": [
        "# Tokenize the descriptions\n",
        "tokenizer.fit_on_texts(X)\n",
        "sequences = tokenizer.texts_to_sequences(X)\n",
        "data = tf.keras.preprocessing.sequence.pad_sequences(sequences, padding='post', maxlen=maxlen)"
      ],
      "metadata": {
        "id": "RT3gF2qNBrX_"
      },
      "execution_count": 59,
      "outputs": []
    },
    {
      "cell_type": "markdown",
      "source": [
        "**Recurrent Neural Networks (RNNs)** are tailored for sequential data, employing hidden states to retain information across time steps. However, RNNs face challenges like vanishing gradients, hindering long-term dependency capture."
      ],
      "metadata": {
        "id": "Ypq0CK2_HyKa"
      }
    },
    {
      "cell_type": "code",
      "source": [
        "# Step 4: Build the RNN model\n",
        "embedding_dim = 32\n",
        "model_rnn = Sequential()\n",
        "model_rnn.add(Embedding(max_words, embedding_dim, input_length=maxlen))\n",
        "model_rnn.add(SimpleRNN(32))\n",
        "model_rnn.add(Dense(len(label_encoder.classes_), activation='softmax'))\n",
        "model_rnn.compile(optimizer='adam', loss='sparse_categorical_crossentropy', metrics=['accuracy'])"
      ],
      "metadata": {
        "id": "g7tPUe7kBvDp"
      },
      "execution_count": 60,
      "outputs": []
    },
    {
      "cell_type": "markdown",
      "source": [
        "**Long Short-Term Memory (LSTMs)** are preferred for tasks requiring extensive contextual understanding due to their enhanced ability to capture long-range dependencies, making them a valuable choice in various sequential data applications."
      ],
      "metadata": {
        "id": "YlUZdCZrJh8P"
      }
    },
    {
      "cell_type": "code",
      "source": [
        "# Step 5: Build the LSTM model\n",
        "model_lstm = Sequential()\n",
        "model_lstm.add(Embedding(max_words, embedding_dim, input_length=maxlen))\n",
        "model_lstm.add(SpatialDropout1D(0.2))\n",
        "model_lstm.add(Bidirectional(LSTM(64, return_sequences=True)))  # Increase LSTM units and return sequences\n",
        "model_lstm.add(Bidirectional(LSTM(32)))\n",
        "model_lstm.add(Dense(len(label_encoder.classes_), activation='softmax'))\n",
        "model_lstm.compile(optimizer='adam', loss='sparse_categorical_crossentropy', metrics=['accuracy'])"
      ],
      "metadata": {
        "id": "pTahS1dJCRmM"
      },
      "execution_count": 61,
      "outputs": []
    },
    {
      "cell_type": "markdown",
      "source": [
        "**Splitting the data**"
      ],
      "metadata": {
        "id": "BTto_PIWJzrd"
      }
    },
    {
      "cell_type": "code",
      "source": [
        "# Step 6: Split the data for training and validation\n",
        "X_train, X_val, y_train, y_val = train_test_split(data, y_encoded, test_size=0.2, random_state=42)"
      ],
      "metadata": {
        "id": "RDW6WNe3CVwR"
      },
      "execution_count": 62,
      "outputs": []
    },
    {
      "cell_type": "markdown",
      "source": [
        "**Training RNN Model**"
      ],
      "metadata": {
        "id": "CyswHHztJ7f0"
      }
    },
    {
      "cell_type": "code",
      "source": [
        "# Step 7: Train the RNN model\n",
        "model_rnn.fit(X_train, y_train, epochs=50, validation_data=(X_val, y_val))"
      ],
      "metadata": {
        "colab": {
          "base_uri": "https://localhost:8080/"
        },
        "id": "ihuNm8prCZOz",
        "outputId": "d39a4662-3ec3-44e1-8160-03c2cfc2b303"
      },
      "execution_count": 79,
      "outputs": [
        {
          "output_type": "stream",
          "name": "stdout",
          "text": [
            "Epoch 1/50\n",
            "2/2 [==============================] - 0s 121ms/step - loss: 2.8236 - accuracy: 0.8750 - val_loss: 4.2347 - val_accuracy: 0.0000e+00\n",
            "Epoch 2/50\n",
            "2/2 [==============================] - 0s 54ms/step - loss: 2.8008 - accuracy: 0.9000 - val_loss: 4.2282 - val_accuracy: 0.0000e+00\n",
            "Epoch 3/50\n",
            "2/2 [==============================] - 0s 67ms/step - loss: 2.7686 - accuracy: 0.9000 - val_loss: 4.2605 - val_accuracy: 0.0000e+00\n",
            "Epoch 4/50\n",
            "2/2 [==============================] - 0s 68ms/step - loss: 2.7308 - accuracy: 0.9000 - val_loss: 4.2701 - val_accuracy: 0.0000e+00\n",
            "Epoch 5/50\n",
            "2/2 [==============================] - 0s 52ms/step - loss: 2.7043 - accuracy: 0.9000 - val_loss: 4.2286 - val_accuracy: 0.0000e+00\n",
            "Epoch 6/50\n",
            "2/2 [==============================] - 0s 67ms/step - loss: 2.6942 - accuracy: 0.9250 - val_loss: 4.2525 - val_accuracy: 0.0000e+00\n",
            "Epoch 7/50\n",
            "2/2 [==============================] - 0s 67ms/step - loss: 2.6643 - accuracy: 0.9500 - val_loss: 4.2678 - val_accuracy: 0.0000e+00\n",
            "Epoch 8/50\n",
            "2/2 [==============================] - 0s 71ms/step - loss: 2.6539 - accuracy: 0.9000 - val_loss: 4.2742 - val_accuracy: 0.0000e+00\n",
            "Epoch 9/50\n",
            "2/2 [==============================] - 0s 85ms/step - loss: 2.6242 - accuracy: 0.9750 - val_loss: 4.2630 - val_accuracy: 0.0000e+00\n",
            "Epoch 10/50\n",
            "2/2 [==============================] - 0s 59ms/step - loss: 2.6066 - accuracy: 0.9500 - val_loss: 4.2696 - val_accuracy: 0.0000e+00\n",
            "Epoch 11/50\n",
            "2/2 [==============================] - 0s 67ms/step - loss: 2.5948 - accuracy: 0.9500 - val_loss: 4.2910 - val_accuracy: 0.0000e+00\n",
            "Epoch 12/50\n",
            "2/2 [==============================] - 0s 74ms/step - loss: 2.5783 - accuracy: 0.9000 - val_loss: 4.3200 - val_accuracy: 0.0000e+00\n",
            "Epoch 13/50\n",
            "2/2 [==============================] - 0s 68ms/step - loss: 2.5782 - accuracy: 0.9500 - val_loss: 4.3092 - val_accuracy: 0.0000e+00\n",
            "Epoch 14/50\n",
            "2/2 [==============================] - 0s 66ms/step - loss: 2.5439 - accuracy: 0.9500 - val_loss: 4.3167 - val_accuracy: 0.0000e+00\n",
            "Epoch 15/50\n",
            "2/2 [==============================] - 0s 54ms/step - loss: 2.5300 - accuracy: 0.9500 - val_loss: 4.3212 - val_accuracy: 0.0000e+00\n",
            "Epoch 16/50\n",
            "2/2 [==============================] - 0s 56ms/step - loss: 2.5227 - accuracy: 0.9500 - val_loss: 4.3019 - val_accuracy: 0.0000e+00\n",
            "Epoch 17/50\n",
            "2/2 [==============================] - 0s 54ms/step - loss: 2.4998 - accuracy: 0.9250 - val_loss: 4.3073 - val_accuracy: 0.0000e+00\n",
            "Epoch 18/50\n",
            "2/2 [==============================] - 0s 53ms/step - loss: 2.4962 - accuracy: 0.9250 - val_loss: 4.3276 - val_accuracy: 0.0000e+00\n",
            "Epoch 19/50\n",
            "2/2 [==============================] - 0s 68ms/step - loss: 2.4724 - accuracy: 0.9250 - val_loss: 4.3299 - val_accuracy: 0.0000e+00\n",
            "Epoch 20/50\n",
            "2/2 [==============================] - 0s 71ms/step - loss: 2.4617 - accuracy: 0.9000 - val_loss: 4.3199 - val_accuracy: 0.0000e+00\n",
            "Epoch 21/50\n",
            "2/2 [==============================] - 0s 66ms/step - loss: 2.4169 - accuracy: 0.9250 - val_loss: 4.2890 - val_accuracy: 0.0000e+00\n",
            "Epoch 22/50\n",
            "2/2 [==============================] - 0s 67ms/step - loss: 2.4099 - accuracy: 0.9750 - val_loss: 4.3342 - val_accuracy: 0.0000e+00\n",
            "Epoch 23/50\n",
            "2/2 [==============================] - 0s 52ms/step - loss: 2.3712 - accuracy: 0.9500 - val_loss: 4.3858 - val_accuracy: 0.0000e+00\n",
            "Epoch 24/50\n",
            "2/2 [==============================] - 0s 53ms/step - loss: 2.3855 - accuracy: 0.9750 - val_loss: 4.3827 - val_accuracy: 0.0000e+00\n",
            "Epoch 25/50\n",
            "2/2 [==============================] - 0s 70ms/step - loss: 2.3482 - accuracy: 0.9750 - val_loss: 4.3238 - val_accuracy: 0.0000e+00\n",
            "Epoch 26/50\n",
            "2/2 [==============================] - 0s 67ms/step - loss: 2.3467 - accuracy: 0.9500 - val_loss: 4.3567 - val_accuracy: 0.0000e+00\n",
            "Epoch 27/50\n",
            "2/2 [==============================] - 0s 57ms/step - loss: 2.3300 - accuracy: 0.9750 - val_loss: 4.3909 - val_accuracy: 0.0000e+00\n",
            "Epoch 28/50\n",
            "2/2 [==============================] - 0s 92ms/step - loss: 2.3357 - accuracy: 0.9500 - val_loss: 4.3577 - val_accuracy: 0.0000e+00\n",
            "Epoch 29/50\n",
            "2/2 [==============================] - 0s 85ms/step - loss: 2.2889 - accuracy: 0.9500 - val_loss: 4.3371 - val_accuracy: 0.0000e+00\n",
            "Epoch 30/50\n",
            "2/2 [==============================] - 0s 103ms/step - loss: 2.2859 - accuracy: 0.9500 - val_loss: 4.3556 - val_accuracy: 0.0000e+00\n",
            "Epoch 31/50\n",
            "2/2 [==============================] - 0s 100ms/step - loss: 2.2542 - accuracy: 0.9500 - val_loss: 4.3565 - val_accuracy: 0.0000e+00\n",
            "Epoch 32/50\n",
            "2/2 [==============================] - 0s 99ms/step - loss: 2.2386 - accuracy: 0.9500 - val_loss: 4.3612 - val_accuracy: 0.0000e+00\n",
            "Epoch 33/50\n",
            "2/2 [==============================] - 0s 102ms/step - loss: 2.2141 - accuracy: 0.9500 - val_loss: 4.3424 - val_accuracy: 0.0000e+00\n",
            "Epoch 34/50\n",
            "2/2 [==============================] - 0s 91ms/step - loss: 2.2248 - accuracy: 0.9500 - val_loss: 4.3620 - val_accuracy: 0.0000e+00\n",
            "Epoch 35/50\n",
            "2/2 [==============================] - 0s 95ms/step - loss: 2.1922 - accuracy: 0.9500 - val_loss: 4.3963 - val_accuracy: 0.0000e+00\n",
            "Epoch 36/50\n",
            "2/2 [==============================] - 0s 99ms/step - loss: 2.1742 - accuracy: 0.9500 - val_loss: 4.3947 - val_accuracy: 0.0000e+00\n",
            "Epoch 37/50\n",
            "2/2 [==============================] - 0s 105ms/step - loss: 2.1530 - accuracy: 0.9500 - val_loss: 4.3970 - val_accuracy: 0.0000e+00\n",
            "Epoch 38/50\n",
            "2/2 [==============================] - 0s 90ms/step - loss: 2.1234 - accuracy: 0.9250 - val_loss: 4.3871 - val_accuracy: 0.0000e+00\n",
            "Epoch 39/50\n",
            "2/2 [==============================] - 0s 107ms/step - loss: 2.1162 - accuracy: 0.9500 - val_loss: 4.3835 - val_accuracy: 0.0000e+00\n",
            "Epoch 40/50\n",
            "2/2 [==============================] - 0s 95ms/step - loss: 2.0951 - accuracy: 0.9500 - val_loss: 4.4067 - val_accuracy: 0.0000e+00\n",
            "Epoch 41/50\n",
            "2/2 [==============================] - 0s 96ms/step - loss: 2.0975 - accuracy: 0.9500 - val_loss: 4.3861 - val_accuracy: 0.0000e+00\n",
            "Epoch 42/50\n",
            "2/2 [==============================] - 0s 95ms/step - loss: 2.0667 - accuracy: 0.9750 - val_loss: 4.4397 - val_accuracy: 0.0000e+00\n",
            "Epoch 43/50\n",
            "2/2 [==============================] - 0s 103ms/step - loss: 2.0752 - accuracy: 0.9500 - val_loss: 4.4294 - val_accuracy: 0.0000e+00\n",
            "Epoch 44/50\n",
            "2/2 [==============================] - 0s 100ms/step - loss: 2.0134 - accuracy: 0.9750 - val_loss: 4.3961 - val_accuracy: 0.0000e+00\n",
            "Epoch 45/50\n",
            "2/2 [==============================] - 0s 116ms/step - loss: 2.0256 - accuracy: 0.9750 - val_loss: 4.4241 - val_accuracy: 0.0000e+00\n",
            "Epoch 46/50\n",
            "2/2 [==============================] - 0s 82ms/step - loss: 2.0036 - accuracy: 0.9500 - val_loss: 4.4372 - val_accuracy: 0.0000e+00\n",
            "Epoch 47/50\n",
            "2/2 [==============================] - 0s 68ms/step - loss: 1.9899 - accuracy: 1.0000 - val_loss: 4.4632 - val_accuracy: 0.0000e+00\n",
            "Epoch 48/50\n",
            "2/2 [==============================] - 0s 54ms/step - loss: 1.9721 - accuracy: 0.9750 - val_loss: 4.4750 - val_accuracy: 0.0000e+00\n",
            "Epoch 49/50\n",
            "2/2 [==============================] - 0s 52ms/step - loss: 1.9422 - accuracy: 0.9750 - val_loss: 4.4814 - val_accuracy: 0.0000e+00\n",
            "Epoch 50/50\n",
            "2/2 [==============================] - 0s 53ms/step - loss: 1.9326 - accuracy: 1.0000 - val_loss: 4.4773 - val_accuracy: 0.0000e+00\n"
          ]
        },
        {
          "output_type": "execute_result",
          "data": {
            "text/plain": [
              "<keras.src.callbacks.History at 0x7a6f0b4f6380>"
            ]
          },
          "metadata": {},
          "execution_count": 79
        }
      ]
    },
    {
      "cell_type": "markdown",
      "source": [
        "**Training LSTM Model**"
      ],
      "metadata": {
        "id": "nlqZVI0hKBMp"
      }
    },
    {
      "cell_type": "code",
      "source": [
        "# Step 8: Train the LSTM model\n",
        "model_lstm.fit(X_train, y_train, epochs=70, validation_data=(X_val, y_val))"
      ],
      "metadata": {
        "colab": {
          "base_uri": "https://localhost:8080/"
        },
        "id": "t3gMLh8CCeci",
        "outputId": "4e1d7094-9b23-4062-c770-f151af4a3a73"
      },
      "execution_count": 80,
      "outputs": [
        {
          "output_type": "stream",
          "name": "stdout",
          "text": [
            "Epoch 1/70\n",
            "2/2 [==============================] - 1s 357ms/step - loss: 1.7461 - accuracy: 0.7500 - val_loss: 8.0235 - val_accuracy: 0.0000e+00\n",
            "Epoch 2/70\n",
            "2/2 [==============================] - 0s 216ms/step - loss: 1.7555 - accuracy: 0.7500 - val_loss: 7.7423 - val_accuracy: 0.0000e+00\n",
            "Epoch 3/70\n",
            "2/2 [==============================] - 0s 213ms/step - loss: 1.7586 - accuracy: 0.8500 - val_loss: 7.7746 - val_accuracy: 0.0000e+00\n",
            "Epoch 4/70\n",
            "2/2 [==============================] - 0s 178ms/step - loss: 1.6822 - accuracy: 0.7250 - val_loss: 7.7702 - val_accuracy: 0.0000e+00\n",
            "Epoch 5/70\n",
            "2/2 [==============================] - 0s 196ms/step - loss: 1.6510 - accuracy: 0.7750 - val_loss: 7.8960 - val_accuracy: 0.0000e+00\n",
            "Epoch 6/70\n",
            "2/2 [==============================] - 0s 218ms/step - loss: 1.6504 - accuracy: 0.8000 - val_loss: 8.0664 - val_accuracy: 0.0000e+00\n",
            "Epoch 7/70\n",
            "2/2 [==============================] - 0s 209ms/step - loss: 1.6667 - accuracy: 0.8250 - val_loss: 8.0083 - val_accuracy: 0.0000e+00\n",
            "Epoch 8/70\n",
            "2/2 [==============================] - 0s 194ms/step - loss: 1.5814 - accuracy: 0.7500 - val_loss: 7.9944 - val_accuracy: 0.0000e+00\n",
            "Epoch 9/70\n",
            "2/2 [==============================] - 0s 217ms/step - loss: 1.5859 - accuracy: 0.8000 - val_loss: 7.9255 - val_accuracy: 0.0000e+00\n",
            "Epoch 10/70\n",
            "2/2 [==============================] - 0s 178ms/step - loss: 1.5299 - accuracy: 0.8750 - val_loss: 7.8546 - val_accuracy: 0.0000e+00\n",
            "Epoch 11/70\n",
            "2/2 [==============================] - 0s 184ms/step - loss: 1.5064 - accuracy: 0.8500 - val_loss: 7.7829 - val_accuracy: 0.0000e+00\n",
            "Epoch 12/70\n",
            "2/2 [==============================] - 0s 179ms/step - loss: 1.4843 - accuracy: 0.8500 - val_loss: 7.7532 - val_accuracy: 0.0000e+00\n",
            "Epoch 13/70\n",
            "2/2 [==============================] - 0s 172ms/step - loss: 1.4917 - accuracy: 0.8250 - val_loss: 7.8970 - val_accuracy: 0.0000e+00\n",
            "Epoch 14/70\n",
            "2/2 [==============================] - 0s 210ms/step - loss: 1.4202 - accuracy: 0.9000 - val_loss: 7.9242 - val_accuracy: 0.0000e+00\n",
            "Epoch 15/70\n",
            "2/2 [==============================] - 0s 178ms/step - loss: 1.4916 - accuracy: 0.8750 - val_loss: 7.9172 - val_accuracy: 0.0000e+00\n",
            "Epoch 16/70\n",
            "2/2 [==============================] - 0s 181ms/step - loss: 1.4284 - accuracy: 0.8500 - val_loss: 7.7808 - val_accuracy: 0.0000e+00\n",
            "Epoch 17/70\n",
            "2/2 [==============================] - 0s 177ms/step - loss: 1.4076 - accuracy: 0.8750 - val_loss: 7.8438 - val_accuracy: 0.0000e+00\n",
            "Epoch 18/70\n",
            "2/2 [==============================] - 0s 190ms/step - loss: 1.3902 - accuracy: 0.9500 - val_loss: 7.9539 - val_accuracy: 0.0000e+00\n",
            "Epoch 19/70\n",
            "2/2 [==============================] - 0s 212ms/step - loss: 1.3736 - accuracy: 0.8500 - val_loss: 8.0820 - val_accuracy: 0.0000e+00\n",
            "Epoch 20/70\n",
            "2/2 [==============================] - 0s 181ms/step - loss: 1.3353 - accuracy: 0.9000 - val_loss: 8.1355 - val_accuracy: 0.0000e+00\n",
            "Epoch 21/70\n",
            "2/2 [==============================] - 0s 178ms/step - loss: 1.3357 - accuracy: 0.9000 - val_loss: 8.0901 - val_accuracy: 0.0000e+00\n",
            "Epoch 22/70\n",
            "2/2 [==============================] - 0s 229ms/step - loss: 1.3156 - accuracy: 0.9000 - val_loss: 8.0443 - val_accuracy: 0.0000e+00\n",
            "Epoch 23/70\n",
            "2/2 [==============================] - 0s 182ms/step - loss: 1.3037 - accuracy: 0.9250 - val_loss: 8.0007 - val_accuracy: 0.0000e+00\n",
            "Epoch 24/70\n",
            "2/2 [==============================] - 0s 179ms/step - loss: 1.3013 - accuracy: 0.8000 - val_loss: 7.9569 - val_accuracy: 0.0000e+00\n",
            "Epoch 25/70\n",
            "2/2 [==============================] - 0s 229ms/step - loss: 1.2756 - accuracy: 0.8250 - val_loss: 8.0745 - val_accuracy: 0.0000e+00\n",
            "Epoch 26/70\n",
            "2/2 [==============================] - 0s 219ms/step - loss: 1.1958 - accuracy: 0.9250 - val_loss: 7.9859 - val_accuracy: 0.0000e+00\n",
            "Epoch 27/70\n",
            "2/2 [==============================] - 0s 212ms/step - loss: 1.3457 - accuracy: 0.7750 - val_loss: 8.1569 - val_accuracy: 0.0000e+00\n",
            "Epoch 28/70\n",
            "2/2 [==============================] - 1s 314ms/step - loss: 1.2650 - accuracy: 0.9250 - val_loss: 8.2687 - val_accuracy: 0.0000e+00\n",
            "Epoch 29/70\n",
            "2/2 [==============================] - 1s 325ms/step - loss: 1.2303 - accuracy: 0.8750 - val_loss: 8.2874 - val_accuracy: 0.0000e+00\n",
            "Epoch 30/70\n",
            "2/2 [==============================] - 1s 302ms/step - loss: 1.2487 - accuracy: 0.8500 - val_loss: 8.2687 - val_accuracy: 0.0000e+00\n",
            "Epoch 31/70\n",
            "2/2 [==============================] - 1s 335ms/step - loss: 1.2301 - accuracy: 0.9000 - val_loss: 8.1723 - val_accuracy: 0.0000e+00\n",
            "Epoch 32/70\n",
            "2/2 [==============================] - 1s 340ms/step - loss: 1.1664 - accuracy: 0.8750 - val_loss: 8.0096 - val_accuracy: 0.0000e+00\n",
            "Epoch 33/70\n",
            "2/2 [==============================] - 0s 195ms/step - loss: 1.1573 - accuracy: 0.9250 - val_loss: 8.1173 - val_accuracy: 0.0000e+00\n",
            "Epoch 34/70\n",
            "2/2 [==============================] - 0s 209ms/step - loss: 1.2276 - accuracy: 0.9250 - val_loss: 7.9031 - val_accuracy: 0.0000e+00\n",
            "Epoch 35/70\n",
            "2/2 [==============================] - 0s 214ms/step - loss: 1.2235 - accuracy: 0.9000 - val_loss: 8.2741 - val_accuracy: 0.0000e+00\n",
            "Epoch 36/70\n",
            "2/2 [==============================] - 0s 225ms/step - loss: 1.1047 - accuracy: 0.9250 - val_loss: 8.3751 - val_accuracy: 0.0000e+00\n",
            "Epoch 37/70\n",
            "2/2 [==============================] - 1s 421ms/step - loss: 1.1318 - accuracy: 0.9250 - val_loss: 8.3053 - val_accuracy: 0.0000e+00\n",
            "Epoch 38/70\n",
            "2/2 [==============================] - 0s 193ms/step - loss: 1.1657 - accuracy: 0.9250 - val_loss: 8.1071 - val_accuracy: 0.0000e+00\n",
            "Epoch 39/70\n",
            "2/2 [==============================] - 0s 215ms/step - loss: 1.1439 - accuracy: 0.9250 - val_loss: 7.8859 - val_accuracy: 0.0000e+00\n",
            "Epoch 40/70\n",
            "2/2 [==============================] - 0s 198ms/step - loss: 1.3075 - accuracy: 0.8500 - val_loss: 8.0411 - val_accuracy: 0.0000e+00\n",
            "Epoch 41/70\n",
            "2/2 [==============================] - 0s 220ms/step - loss: 1.1944 - accuracy: 0.9750 - val_loss: 7.8927 - val_accuracy: 0.0000e+00\n",
            "Epoch 42/70\n",
            "2/2 [==============================] - 0s 213ms/step - loss: 1.1770 - accuracy: 0.9250 - val_loss: 8.0872 - val_accuracy: 0.0000e+00\n",
            "Epoch 43/70\n",
            "2/2 [==============================] - 0s 179ms/step - loss: 1.1172 - accuracy: 0.8750 - val_loss: 8.2587 - val_accuracy: 0.0000e+00\n",
            "Epoch 44/70\n",
            "2/2 [==============================] - 0s 181ms/step - loss: 1.0187 - accuracy: 0.9250 - val_loss: 8.3565 - val_accuracy: 0.1000\n",
            "Epoch 45/70\n",
            "2/2 [==============================] - 0s 185ms/step - loss: 1.0696 - accuracy: 0.9000 - val_loss: 8.2624 - val_accuracy: 0.0000e+00\n",
            "Epoch 46/70\n",
            "2/2 [==============================] - 0s 180ms/step - loss: 1.0147 - accuracy: 0.9250 - val_loss: 7.9979 - val_accuracy: 0.0000e+00\n",
            "Epoch 47/70\n",
            "2/2 [==============================] - 0s 218ms/step - loss: 1.0248 - accuracy: 0.9750 - val_loss: 7.8486 - val_accuracy: 0.0000e+00\n",
            "Epoch 48/70\n",
            "2/2 [==============================] - 0s 197ms/step - loss: 1.0072 - accuracy: 0.9250 - val_loss: 7.8662 - val_accuracy: 0.0000e+00\n",
            "Epoch 49/70\n",
            "2/2 [==============================] - 0s 210ms/step - loss: 0.9874 - accuracy: 0.9250 - val_loss: 7.9100 - val_accuracy: 0.0000e+00\n",
            "Epoch 50/70\n",
            "2/2 [==============================] - 0s 177ms/step - loss: 0.9345 - accuracy: 0.9750 - val_loss: 7.9294 - val_accuracy: 0.0000e+00\n",
            "Epoch 51/70\n",
            "2/2 [==============================] - 0s 195ms/step - loss: 0.9943 - accuracy: 0.9250 - val_loss: 8.0472 - val_accuracy: 0.0000e+00\n",
            "Epoch 52/70\n",
            "2/2 [==============================] - 0s 215ms/step - loss: 0.9518 - accuracy: 0.9500 - val_loss: 8.1189 - val_accuracy: 0.0000e+00\n",
            "Epoch 53/70\n",
            "2/2 [==============================] - 0s 209ms/step - loss: 0.9057 - accuracy: 0.9500 - val_loss: 7.9791 - val_accuracy: 0.0000e+00\n",
            "Epoch 54/70\n",
            "2/2 [==============================] - 0s 211ms/step - loss: 0.9527 - accuracy: 0.9250 - val_loss: 7.9036 - val_accuracy: 0.0000e+00\n",
            "Epoch 55/70\n",
            "2/2 [==============================] - 0s 208ms/step - loss: 0.9249 - accuracy: 0.9750 - val_loss: 7.7912 - val_accuracy: 0.0000e+00\n",
            "Epoch 56/70\n",
            "2/2 [==============================] - 0s 212ms/step - loss: 0.9045 - accuracy: 1.0000 - val_loss: 7.7517 - val_accuracy: 0.0000e+00\n",
            "Epoch 57/70\n",
            "2/2 [==============================] - 0s 211ms/step - loss: 0.9411 - accuracy: 0.9500 - val_loss: 7.7966 - val_accuracy: 0.0000e+00\n",
            "Epoch 58/70\n",
            "2/2 [==============================] - 1s 335ms/step - loss: 0.9128 - accuracy: 1.0000 - val_loss: 7.8383 - val_accuracy: 0.0000e+00\n",
            "Epoch 59/70\n",
            "2/2 [==============================] - 1s 308ms/step - loss: 0.8682 - accuracy: 1.0000 - val_loss: 7.7639 - val_accuracy: 0.0000e+00\n",
            "Epoch 60/70\n",
            "2/2 [==============================] - 1s 305ms/step - loss: 0.8885 - accuracy: 0.9750 - val_loss: 7.9861 - val_accuracy: 0.0000e+00\n",
            "Epoch 61/70\n",
            "2/2 [==============================] - 1s 318ms/step - loss: 0.8735 - accuracy: 0.9750 - val_loss: 8.0222 - val_accuracy: 0.0000e+00\n",
            "Epoch 62/70\n",
            "2/2 [==============================] - 1s 348ms/step - loss: 0.9002 - accuracy: 0.9750 - val_loss: 8.1387 - val_accuracy: 0.0000e+00\n",
            "Epoch 63/70\n",
            "2/2 [==============================] - 0s 185ms/step - loss: 0.8485 - accuracy: 0.9750 - val_loss: 8.1290 - val_accuracy: 0.0000e+00\n",
            "Epoch 64/70\n",
            "2/2 [==============================] - 0s 176ms/step - loss: 0.8101 - accuracy: 1.0000 - val_loss: 8.1716 - val_accuracy: 0.0000e+00\n",
            "Epoch 65/70\n",
            "2/2 [==============================] - 0s 216ms/step - loss: 0.8577 - accuracy: 1.0000 - val_loss: 8.2802 - val_accuracy: 0.0000e+00\n",
            "Epoch 66/70\n",
            "2/2 [==============================] - 0s 177ms/step - loss: 0.8515 - accuracy: 0.9750 - val_loss: 8.2940 - val_accuracy: 0.0000e+00\n",
            "Epoch 67/70\n",
            "2/2 [==============================] - 0s 212ms/step - loss: 0.7794 - accuracy: 0.9750 - val_loss: 8.1644 - val_accuracy: 0.0000e+00\n",
            "Epoch 68/70\n",
            "2/2 [==============================] - 0s 218ms/step - loss: 0.7944 - accuracy: 1.0000 - val_loss: 8.2001 - val_accuracy: 0.0000e+00\n",
            "Epoch 69/70\n",
            "2/2 [==============================] - 0s 220ms/step - loss: 0.7879 - accuracy: 0.9500 - val_loss: 8.2268 - val_accuracy: 0.0000e+00\n",
            "Epoch 70/70\n",
            "2/2 [==============================] - 0s 230ms/step - loss: 0.7597 - accuracy: 0.9750 - val_loss: 8.2826 - val_accuracy: 0.0000e+00\n"
          ]
        },
        {
          "output_type": "execute_result",
          "data": {
            "text/plain": [
              "<keras.src.callbacks.History at 0x7a6efc98ce50>"
            ]
          },
          "metadata": {},
          "execution_count": 80
        }
      ]
    },
    {
      "cell_type": "code",
      "source": [
        "# Step 9: Evaluate the models\n",
        "# Assuming you have a separate test set\n",
        "test_df = pd.read_csv('dl usecase data.csv')\n",
        "test_X = test_df['description']\n",
        "test_y = test_df['name']"
      ],
      "metadata": {
        "id": "mqi9pHV8Cqa_"
      },
      "execution_count": 81,
      "outputs": []
    },
    {
      "cell_type": "code",
      "source": [
        "# Convert text labels to numerical format\n",
        "test_y_encoded = label_encoder.transform(test_y)"
      ],
      "metadata": {
        "id": "0F_piDbbCx-N"
      },
      "execution_count": 82,
      "outputs": []
    },
    {
      "cell_type": "code",
      "source": [
        "# Tokenize and pad test sequences\n",
        "test_sequences = tokenizer.texts_to_sequences(test_X)\n",
        "test_data = tf.keras.preprocessing.sequence.pad_sequences(test_sequences, padding='post', maxlen=maxlen)"
      ],
      "metadata": {
        "id": "-kGVV0OcC0xK"
      },
      "execution_count": 83,
      "outputs": []
    },
    {
      "cell_type": "markdown",
      "source": [
        "**Evaluating both RNN and LSTM Models**"
      ],
      "metadata": {
        "id": "MS2oD_HQKIJB"
      }
    },
    {
      "cell_type": "code",
      "source": [
        "# Evaluate the RNN model\n",
        "loss_rnn, accuracy_rnn = model_rnn.evaluate(test_data, test_y_encoded)"
      ],
      "metadata": {
        "colab": {
          "base_uri": "https://localhost:8080/"
        },
        "id": "I4ACnnoqC4eJ",
        "outputId": "7c0b5a9a-c924-4c81-b97c-d1f8e010bea1"
      },
      "execution_count": 84,
      "outputs": [
        {
          "output_type": "stream",
          "name": "stdout",
          "text": [
            "2/2 [==============================] - 0s 11ms/step - loss: 2.4229 - accuracy: 0.7800\n"
          ]
        }
      ]
    },
    {
      "cell_type": "code",
      "source": [
        "# Evaluate the LSTM model\n",
        "loss_lstm, accuracy_lstm = model_lstm.evaluate(test_data, test_y_encoded)"
      ],
      "metadata": {
        "colab": {
          "base_uri": "https://localhost:8080/"
        },
        "id": "L_dDfHqTC73p",
        "outputId": "0da4eccf-2da2-48e1-9d8d-6a7cbb931783"
      },
      "execution_count": 85,
      "outputs": [
        {
          "output_type": "stream",
          "name": "stdout",
          "text": [
            "2/2 [==============================] - 0s 36ms/step - loss: 2.2289 - accuracy: 0.8000\n"
          ]
        }
      ]
    },
    {
      "cell_type": "markdown",
      "source": [
        "**Performance Comparison**"
      ],
      "metadata": {
        "id": "4fWVZ9e1KOkj"
      }
    },
    {
      "cell_type": "code",
      "source": [
        "# Step 10: Compare performance metrics\n",
        "print(f'RNN - Loss: {loss_rnn}, Accuracy: {accuracy_rnn}')\n",
        "print(f'LSTM - Loss: {loss_lstm}, Accuracy: {accuracy_lstm}')"
      ],
      "metadata": {
        "colab": {
          "base_uri": "https://localhost:8080/"
        },
        "id": "YMTM_aS2C-hl",
        "outputId": "d0748ecf-fba1-4c55-add0-f5f64d0a61bf"
      },
      "execution_count": 86,
      "outputs": [
        {
          "output_type": "stream",
          "name": "stdout",
          "text": [
            "RNN - Loss: 2.4228622913360596, Accuracy: 0.7799999713897705\n",
            "LSTM - Loss: 2.228931427001953, Accuracy: 0.800000011920929\n"
          ]
        }
      ]
    }
  ]
}